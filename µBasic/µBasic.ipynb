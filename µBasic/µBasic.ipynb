{
 "cells": [
  {
   "cell_type": "raw",
   "metadata": {},
   "source": [
    "Part One:\n",
    "\n",
    "1. Describe the difference between a high-level programming language and a low-level programming language.\n",
    "    \n",
    "    Answer: The difference between a high and low-level programming language is that a high-level programming\n",
    "    language supports data abstraction (the ability to utilize various data types of a language in a way that\n",
    "    is more 'visible', or understandable to the programmer) and structured programming (features of a progra-\n",
    "    mming language that allow for a 'structured flow' of control through a program), while low-level program-\n",
    "    ming languages do not support these techniques.\n",
    "\n",
    "2. Give a regular expression that describes words that start with the letters 'a' or 'z'.\n",
    "\n",
    "    Answer: [a][a-zA-Z]* | [z][a-zA-Z]*\n",
    "\n",
    "3. Given the grammar:\n",
    "    \n",
    "    exp : '@' exp exp\n",
    "        | '#' exp exp\n",
    "        | prim\n",
    "    prim : '<' W '>'\n",
    "    W : 'a' | 'b' | .. | 'z'\n",
    "    \n",
    "Please answer the following:\n",
    "\n",
    "    (a). What is the lookahead set for non-terminal 'exp'?\n",
    "    \n",
    "        Answer: (Lookahead Sets appear between the curly braces for each rule)\n",
    "        \n",
    "        exp : {@} '@' exp exp\n",
    "            | {#} '#' exp exp\n",
    "            | {<} prim\n",
    "    \n",
    "    (b). What are some example strings that belong to the language of the grammar?\n",
    "    \n",
    "        Answer:\n",
    "        \n",
    "        \"@#azb\"\n",
    "        \n",
    "        \"#c#@bda\"\n",
    "    \n",
    "    (c). Does the string a@b belong to the language defined by the grammar? Why or why not?\n",
    "    \n",
    "        Answer: The string \"a@b\" does not belong to the language defined by the grammar because\n",
    "        after reading the '@' symbol, the string only recurses through the non-terminal 'exp'\n",
    "        once rather than twice, as intended by the original grammar.\n",
    "    \n",
    "4. Given this grammar:\n",
    "\n",
    "    sen : rambling followed by one_ending\n",
    "        | rambling followed by another_ending\n",
    "        ;\n",
    "        \n",
    "    rambling : 'a';\n",
    "    followed : 'b';\n",
    "    by : 'c';\n",
    "    one_ending : 'd';\n",
    "    another_ending : 'e';\n",
    "    \n",
    "Is the above grammar a LL(1) grammar? Why or why not? If not, how would you rewrite it to make it a LL(1) grammar?\n",
    "\n",
    "    Answer: The above grammar is a LL(1) grammar. The input stream is read from left to right, the grammar uses\n",
    "    left-most derivation, and 1 lookahead symbol is used for each derivation.\n"
   ]
  },
  {
   "cell_type": "code",
   "execution_count": null,
   "metadata": {},
   "outputs": [],
   "source": [
    "\"\"\"\n",
    "Part Two:\n",
    "\n",
    "\"\"\"\n",
    "\n"
   ]
  }
 ],
 "metadata": {
  "kernelspec": {
   "display_name": "Python 3",
   "language": "python",
   "name": "python3"
  },
  "language_info": {
   "codemirror_mode": {
    "name": "ipython",
    "version": 3
   },
   "file_extension": ".py",
   "mimetype": "text/x-python",
   "name": "python",
   "nbconvert_exporter": "python",
   "pygments_lexer": "ipython3",
   "version": "3.8.3"
  }
 },
 "nbformat": 4,
 "nbformat_minor": 4
}
