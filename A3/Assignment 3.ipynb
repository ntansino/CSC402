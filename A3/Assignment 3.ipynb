{
 "cells": [
  {
   "cell_type": "code",
   "execution_count": 26,
   "metadata": {},
   "outputs": [],
   "source": [
    "message_to_TA = \\\n",
    "\"\"\"\n",
    "Not sure why, but the Notebook would not allow me to import\n",
    "the interpreter file (A3interp.py), so the code for the file\n",
    "is being posted and run in the cell below. I've included the\n",
    "A3interp.py file in my '.zip' archive just in case you wanted\n",
    "it for reference/grading.\n",
    "\"\"\""
   ]
  },
  {
   "cell_type": "code",
   "execution_count": 27,
   "metadata": {},
   "outputs": [],
   "source": [
    "from A3gram import parser\n",
    "\n",
    "def A3_interp(input_stream = None):\n",
    "    'A driver for our LR Exp1 interpreter.'\n",
    "    \n",
    "    if not input_stream:\n",
    "        input_stream = input(\"exp1 > \")\n",
    "    \n",
    "    parser.parse(input_stream)\n"
   ]
  },
  {
   "cell_type": "code",
   "execution_count": 28,
   "metadata": {},
   "outputs": [],
   "source": [
    "program = \\\n",
    "\"\"\"\n",
    "store x 1;\n",
    "store y 2;\n",
    "print (+ x (/ y 2));\n",
    "\"\"\""
   ]
  },
  {
   "cell_type": "code",
   "execution_count": 29,
   "metadata": {},
   "outputs": [
    {
     "name": "stdout",
     "output_type": "stream",
     "text": [
      "> 2\n"
     ]
    }
   ],
   "source": [
    "A3_interp(program)"
   ]
  },
  {
   "cell_type": "code",
   "execution_count": 30,
   "metadata": {},
   "outputs": [],
   "source": [
    "program2 = \\\n",
    "\"\"\"\n",
    "store x 2;\n",
    "store y 3;\n",
    "print (+ x (* y 2));\n",
    "\"\"\""
   ]
  },
  {
   "cell_type": "code",
   "execution_count": 31,
   "metadata": {},
   "outputs": [
    {
     "name": "stdout",
     "output_type": "stream",
     "text": [
      "> 8\n"
     ]
    }
   ],
   "source": [
    "A3_interp(program2)"
   ]
  }
 ],
 "metadata": {
  "kernelspec": {
   "display_name": "Python 3",
   "language": "python",
   "name": "python3"
  },
  "language_info": {
   "codemirror_mode": {
    "name": "ipython",
    "version": 3
   },
   "file_extension": ".py",
   "mimetype": "text/x-python",
   "name": "python",
   "nbconvert_exporter": "python",
   "pygments_lexer": "ipython3",
   "version": "3.8.3"
  }
 },
 "nbformat": 4,
 "nbformat_minor": 4
}
