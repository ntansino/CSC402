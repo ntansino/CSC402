{
 "cells": [
  {
   "cell_type": "code",
   "execution_count": 77,
   "metadata": {},
   "outputs": [],
   "source": [
    "from A2 import parser\n",
    "from ulisp_lex import lexer"
   ]
  },
  {
   "cell_type": "code",
   "execution_count": 78,
   "metadata": {
    "scrolled": true
   },
   "outputs": [
    {
     "name": "stdout",
     "output_type": "stream",
     "text": [
      "count = 135\n"
     ]
    }
   ],
   "source": [
    "parser.parse(\"(p (+ (* 3 2) 1))\", lexer=lexer)"
   ]
  },
  {
   "cell_type": "code",
   "execution_count": 79,
   "metadata": {},
   "outputs": [
    {
     "name": "stdout",
     "output_type": "stream",
     "text": [
      "count = 136\n"
     ]
    }
   ],
   "source": [
    "parser.parse(\"(s x 1)\\n(s y x)\\n(p(+ x y))\", lexer=lexer)"
   ]
  },
  {
   "cell_type": "code",
   "execution_count": 80,
   "metadata": {},
   "outputs": [
    {
     "name": "stdout",
     "output_type": "stream",
     "text": [
      "count = 139\n"
     ]
    }
   ],
   "source": [
    "parser.parse(\"(s x 1)\\n(p x)\\n(s y 2)\\n(p y)\\n(p (+ x y))\", lexer=lexer)"
   ]
  },
  {
   "cell_type": "code",
   "execution_count": 81,
   "metadata": {},
   "outputs": [
    {
     "name": "stdout",
     "output_type": "stream",
     "text": [
      "Syntax error at 'p'\n",
      "count = 144\n"
     ]
    }
   ],
   "source": [
    "parser.parse(\"(s x 1)\\n(s y x)\\n(p (+ x p))\", lexer=lexer)"
   ]
  },
  {
   "cell_type": "code",
   "execution_count": null,
   "metadata": {},
   "outputs": [],
   "source": []
  }
 ],
 "metadata": {
  "kernelspec": {
   "display_name": "Python 3",
   "language": "python",
   "name": "python3"
  },
  "language_info": {
   "codemirror_mode": {
    "name": "ipython",
    "version": 3
   },
   "file_extension": ".py",
   "mimetype": "text/x-python",
   "name": "python",
   "nbconvert_exporter": "python",
   "pygments_lexer": "ipython3",
   "version": "3.8.3"
  }
 },
 "nbformat": 4,
 "nbformat_minor": 4
}
