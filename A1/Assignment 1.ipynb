{
 "cells": [
  {
   "cell_type": "code",
   "execution_count": null,
   "metadata": {},
   "outputs": [],
   "source": [
    "\"\"\"\n",
    "Grammar Extended w/ Lookahead Sets:\n",
    "\n",
    "prog : {(} sexp prog\n",
    "    | {\"\"} \"\"\n",
    "\n",
    "sexp : {(} ’(’ exp ’)’\n",
    "    | {x,y,z} var\n",
    "    | {0,1,2,3,4,5,6,7,8,9} num\n",
    "\n",
    "exp : {+} ’+’ sexp sexp\n",
    "    | {-} ’-’ sexp sexp\n",
    "    | {*} ’*’ sexp sexp\n",
    "    | {/} ’/’ sexp sexp\n",
    "    | {s} ’s’ var sexp\n",
    "    | {p} ’p’ sexp\n",
    "\n",
    "var : {x} ’x’ | {y} ’y’ | {z} ’z’\n",
    "\n",
    "num : {0} ’0’ | {1} ’1’ | {2} ’2’ | {3} ’3’ | {4} ’4’ | {5} ’5’ | {6} ’6’ | {7} ’7’ | {8} ’8’ | {9} ’9’\n",
    "\n",
    "\"\"\""
   ]
  },
  {
   "cell_type": "code",
   "execution_count": 1,
   "metadata": {},
   "outputs": [],
   "source": [
    "from grammar_stuff import InputStream"
   ]
  },
  {
   "cell_type": "code",
   "execution_count": 2,
   "metadata": {},
   "outputs": [
    {
     "ename": "SyntaxError",
     "evalue": "unexpected symbol ) while parsing, expected ; (<string>)",
     "output_type": "error",
     "traceback": [
      "Traceback \u001b[1;36m(most recent call last)\u001b[0m:\n",
      "  File \u001b[0;32m\"C:\\Users\\Nick\\anaconda3\\lib\\site-packages\\IPython\\core\\interactiveshell.py\"\u001b[0m, line \u001b[0;32m3343\u001b[0m, in \u001b[0;35mrun_code\u001b[0m\n    exec(code_obj, self.user_global_ns, self.user_ns)\n",
      "  File \u001b[0;32m\"<ipython-input-2-5d7eca624137>\"\u001b[0m, line \u001b[0;32m1\u001b[0m, in \u001b[0;35m<module>\u001b[0m\n    from A1.py import prog\n",
      "  File \u001b[0;32m\"C:\\Users\\Nick\\Desktop\\College\\Computer Science\\CSC 402\\plipy_textbook\\Notebooks\\code\\A1.py\"\u001b[0m, line \u001b[0;32m111\u001b[0m, in \u001b[0;35m<module>\u001b[0m\n    prog()\n",
      "  File \u001b[0;32m\"C:\\Users\\Nick\\Desktop\\College\\Computer Science\\CSC 402\\plipy_textbook\\Notebooks\\code\\A1.py\"\u001b[0m, line \u001b[0;32m35\u001b[0m, in \u001b[0;35mprog\u001b[0m\n    sexp()\n",
      "  File \u001b[0;32m\"C:\\Users\\Nick\\Desktop\\College\\Computer Science\\CSC 402\\plipy_textbook\\Notebooks\\code\\A1.py\"\u001b[0m, line \u001b[0;32m47\u001b[0m, in \u001b[0;35msexp\u001b[0m\n    exp()\n",
      "  File \u001b[0;32m\"C:\\Users\\Nick\\Desktop\\College\\Computer Science\\CSC 402\\plipy_textbook\\Notebooks\\code\\A1.py\"\u001b[0m, line \u001b[0;32m86\u001b[0m, in \u001b[0;35mexp\u001b[0m\n    sexp()\n",
      "  File \u001b[0;32m\"C:\\Users\\Nick\\Desktop\\College\\Computer Science\\CSC 402\\plipy_textbook\\Notebooks\\code\\A1.py\"\u001b[0m, line \u001b[0;32m47\u001b[0m, in \u001b[0;35msexp\u001b[0m\n    exp()\n",
      "  File \u001b[0;32m\"C:\\Users\\Nick\\Desktop\\College\\Computer Science\\CSC 402\\plipy_textbook\\Notebooks\\code\\A1.py\"\u001b[0m, line \u001b[0;32m66\u001b[0m, in \u001b[0;35mexp\u001b[0m\n    sexp()\n",
      "  File \u001b[0;32m\"C:\\Users\\Nick\\Desktop\\College\\Computer Science\\CSC 402\\plipy_textbook\\Notebooks\\code\\A1.py\"\u001b[0m, line \u001b[0;32m47\u001b[0m, in \u001b[0;35msexp\u001b[0m\n    exp()\n",
      "  File \u001b[0;32m\"C:\\Users\\Nick\\Desktop\\College\\Computer Science\\CSC 402\\plipy_textbook\\Notebooks\\code\\A1.py\"\u001b[0m, line \u001b[0;32m74\u001b[0m, in \u001b[0;35mexp\u001b[0m\n    sexp()\n",
      "  File \u001b[0;32m\"C:\\Users\\Nick\\Desktop\\College\\Computer Science\\CSC 402\\plipy_textbook\\Notebooks\\code\\A1.py\"\u001b[0m, line \u001b[0;32m58\u001b[0m, in \u001b[0;35msexp\u001b[0m\n    I.match(';')\n",
      "\u001b[1;36m  File \u001b[1;32m\"C:\\Users\\Nick\\Desktop\\College\\Computer Science\\CSC 402\\plipy_textbook\\Notebooks\\code\\grammar_stuff.py\"\u001b[1;36m, line \u001b[1;32m149\u001b[1;36m, in \u001b[1;35mmatch\u001b[1;36m\u001b[0m\n\u001b[1;33m    raise SyntaxError('unexpected symbol {} while parsing, expected {}'\u001b[0m\n",
      "\u001b[1;36m  File \u001b[1;32m\"<string>\"\u001b[1;36m, line \u001b[1;32munknown\u001b[0m\n\u001b[1;31mSyntaxError\u001b[0m\u001b[1;31m:\u001b[0m unexpected symbol ) while parsing, expected ;\n"
     ]
    }
   ],
   "source": [
    "from A1.py import prog"
   ]
  },
  {
   "cell_type": "code",
   "execution_count": 1,
   "metadata": {},
   "outputs": [
    {
     "ename": "SyntaxError",
     "evalue": "unexpected symbol ) while parsing (<string>)",
     "output_type": "error",
     "traceback": [
      "Traceback \u001b[1;36m(most recent call last)\u001b[0m:\n",
      "  File \u001b[0;32m\"C:\\Users\\Nick\\anaconda3\\lib\\site-packages\\IPython\\core\\interactiveshell.py\"\u001b[0m, line \u001b[0;32m3343\u001b[0m, in \u001b[0;35mrun_code\u001b[0m\n    exec(code_obj, self.user_global_ns, self.user_ns)\n",
      "  File \u001b[0;32m\"<ipython-input-1-4d28045dfcc6>\"\u001b[0m, line \u001b[0;32m1\u001b[0m, in \u001b[0;35m<module>\u001b[0m\n    from A1 import prog\n",
      "  File \u001b[0;32m\"C:\\Users\\Nick\\Desktop\\College\\Computer Science\\CSC 402\\plipy_textbook\\Notebooks\\code\\A1.py\"\u001b[0m, line \u001b[0;32m108\u001b[0m, in \u001b[0;35m<module>\u001b[0m\n    prog()\n",
      "  File \u001b[0;32m\"C:\\Users\\Nick\\Desktop\\College\\Computer Science\\CSC 402\\plipy_textbook\\Notebooks\\code\\A1.py\"\u001b[0m, line \u001b[0;32m35\u001b[0m, in \u001b[0;35mprog\u001b[0m\n    sexp()\n",
      "  File \u001b[0;32m\"C:\\Users\\Nick\\Desktop\\College\\Computer Science\\CSC 402\\plipy_textbook\\Notebooks\\code\\A1.py\"\u001b[0m, line \u001b[0;32m47\u001b[0m, in \u001b[0;35msexp\u001b[0m\n    exp()\n",
      "  File \u001b[0;32m\"C:\\Users\\Nick\\Desktop\\College\\Computer Science\\CSC 402\\plipy_textbook\\Notebooks\\code\\A1.py\"\u001b[0m, line \u001b[0;32m83\u001b[0m, in \u001b[0;35mexp\u001b[0m\n    sexp()\n",
      "  File \u001b[0;32m\"C:\\Users\\Nick\\Desktop\\College\\Computer Science\\CSC 402\\plipy_textbook\\Notebooks\\code\\A1.py\"\u001b[0m, line \u001b[0;32m47\u001b[0m, in \u001b[0;35msexp\u001b[0m\n    exp()\n",
      "  File \u001b[0;32m\"C:\\Users\\Nick\\Desktop\\College\\Computer Science\\CSC 402\\plipy_textbook\\Notebooks\\code\\A1.py\"\u001b[0m, line \u001b[0;32m63\u001b[0m, in \u001b[0;35mexp\u001b[0m\n    sexp()\n",
      "  File \u001b[0;32m\"C:\\Users\\Nick\\Desktop\\College\\Computer Science\\CSC 402\\plipy_textbook\\Notebooks\\code\\A1.py\"\u001b[0m, line \u001b[0;32m47\u001b[0m, in \u001b[0;35msexp\u001b[0m\n    exp()\n",
      "  File \u001b[0;32m\"C:\\Users\\Nick\\Desktop\\College\\Computer Science\\CSC 402\\plipy_textbook\\Notebooks\\code\\A1.py\"\u001b[0m, line \u001b[0;32m72\u001b[0m, in \u001b[0;35mexp\u001b[0m\n    sexp()\n",
      "\u001b[1;36m  File \u001b[1;32m\"C:\\Users\\Nick\\Desktop\\College\\Computer Science\\CSC 402\\plipy_textbook\\Notebooks\\code\\A1.py\"\u001b[1;36m, line \u001b[1;32m57\u001b[1;36m, in \u001b[1;35msexp\u001b[1;36m\u001b[0m\n\u001b[1;33m    raise SyntaxError('unexpected symbol {} while parsing'.format(sym))\u001b[0m\n",
      "\u001b[1;36m  File \u001b[1;32m\"<string>\"\u001b[1;36m, line \u001b[1;32munknown\u001b[0m\n\u001b[1;31mSyntaxError\u001b[0m\u001b[1;31m:\u001b[0m unexpected symbol ) while parsing\n"
     ]
    }
   ],
   "source": [
    "from A1 import prog"
   ]
  },
  {
   "cell_type": "code",
   "execution_count": null,
   "metadata": {},
   "outputs": [],
   "source": []
  }
 ],
 "metadata": {
  "kernelspec": {
   "display_name": "Python 3",
   "language": "python",
   "name": "python3"
  },
  "language_info": {
   "codemirror_mode": {
    "name": "ipython",
    "version": 3
   },
   "file_extension": ".py",
   "mimetype": "text/x-python",
   "name": "python",
   "nbconvert_exporter": "python",
   "pygments_lexer": "ipython3",
   "version": "3.8.3"
  }
 },
 "nbformat": 4,
 "nbformat_minor": 4
}
